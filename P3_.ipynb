{
  "cells": [
    {
      "cell_type": "markdown",
      "id": "7b850da1",
      "metadata": {
        "id": "7b850da1"
      },
      "source": [
        "# Lab: RNNs for Sentiment Analysis\n",
        "\n",
        "\n",
        "------------------------------------------------------\n",
        "\n",
        "*Pablo M. Olmos pamartin@ing.uc3m.es*\n",
        "\n",
        "\n",
        "------------------------------------------------------\n",
        "\n",
        "In this notebook we will deploy RNNs to perform sentiment analysis in a real dataset of finantial news. The required preprocesing using standard NLP libraries will be given to you (you have a course on NLP in the second term to learn this part) and your goal will be to define the RNN model, train it and validate the results.\n",
        "\n",
        "\n",
        "We will use the [Finantial Phrase Bank](https://www.researchgate.net/profile/Pekka-Malo/publication/251231364_FinancialPhraseBank-v10/data/0c96051eee4fb1d56e000000/FinancialPhraseBank-v10.zip), which contains  near 5000 sentences from finantial news:\n",
        "\n",
        "\n",
        ">*This release of the financial phrase bank covers a collection of 4840 sentences. The selected collection of phrases was annotated by 16 people with adequate background knowledge on financial markets. Three of the annotators were researchers and the remaining 13 annotators were master’s students at Aalto University School of Business with majors primarily in finance, accounting, and economics.*\n",
        ">\n",
        ">*The objective of the phrase level annotation task was to classify each example sentence into a positive, negative or neutral category by considering only the information explicitly available in the given sentence. Since the study is focused only on financial and economic domains, the annotators were asked to consider the sentences from the view point of an investor only; i.e. whether the news may have positive, negative or neutral influence on the stock price. As a result, sentences which have a sentiment that is not relevant from an economic or financial perspective are considered neutral.*\n",
        "\n",
        "Lets load the database and preprocess it using [SpaCy](https://spacy.io/). This part is all given to you, so no need to worry much.\n",
        "\n",
        "\n"
      ]
    },
    {
      "cell_type": "code",
      "execution_count": 108,
      "id": "77de13ff",
      "metadata": {
        "colab": {
          "base_uri": "https://localhost:8080/"
        },
        "id": "77de13ff",
        "outputId": "7d19c099-f7c6-4272-94b2-5196e3098f31"
      },
      "outputs": [
        {
          "output_type": "stream",
          "name": "stdout",
          "text": [
            "Requirement already satisfied: spacy in /usr/local/lib/python3.11/dist-packages (3.8.5)\n",
            "Requirement already satisfied: spacy-legacy<3.1.0,>=3.0.11 in /usr/local/lib/python3.11/dist-packages (from spacy) (3.0.12)\n",
            "Requirement already satisfied: spacy-loggers<2.0.0,>=1.0.0 in /usr/local/lib/python3.11/dist-packages (from spacy) (1.0.5)\n",
            "Requirement already satisfied: murmurhash<1.1.0,>=0.28.0 in /usr/local/lib/python3.11/dist-packages (from spacy) (1.0.12)\n",
            "Requirement already satisfied: cymem<2.1.0,>=2.0.2 in /usr/local/lib/python3.11/dist-packages (from spacy) (2.0.11)\n",
            "Requirement already satisfied: preshed<3.1.0,>=3.0.2 in /usr/local/lib/python3.11/dist-packages (from spacy) (3.0.9)\n",
            "Requirement already satisfied: thinc<8.4.0,>=8.3.4 in /usr/local/lib/python3.11/dist-packages (from spacy) (8.3.4)\n",
            "Requirement already satisfied: wasabi<1.2.0,>=0.9.1 in /usr/local/lib/python3.11/dist-packages (from spacy) (1.1.3)\n",
            "Requirement already satisfied: srsly<3.0.0,>=2.4.3 in /usr/local/lib/python3.11/dist-packages (from spacy) (2.5.1)\n",
            "Requirement already satisfied: catalogue<2.1.0,>=2.0.6 in /usr/local/lib/python3.11/dist-packages (from spacy) (2.0.10)\n",
            "Requirement already satisfied: weasel<0.5.0,>=0.1.0 in /usr/local/lib/python3.11/dist-packages (from spacy) (0.4.1)\n",
            "Requirement already satisfied: typer<1.0.0,>=0.3.0 in /usr/local/lib/python3.11/dist-packages (from spacy) (0.15.2)\n",
            "Requirement already satisfied: tqdm<5.0.0,>=4.38.0 in /usr/local/lib/python3.11/dist-packages (from spacy) (4.67.1)\n",
            "Requirement already satisfied: numpy>=1.19.0 in /usr/local/lib/python3.11/dist-packages (from spacy) (2.0.2)\n",
            "Requirement already satisfied: requests<3.0.0,>=2.13.0 in /usr/local/lib/python3.11/dist-packages (from spacy) (2.32.3)\n",
            "Requirement already satisfied: pydantic!=1.8,!=1.8.1,<3.0.0,>=1.7.4 in /usr/local/lib/python3.11/dist-packages (from spacy) (2.11.1)\n",
            "Requirement already satisfied: jinja2 in /usr/local/lib/python3.11/dist-packages (from spacy) (3.1.6)\n",
            "Requirement already satisfied: setuptools in /usr/local/lib/python3.11/dist-packages (from spacy) (75.2.0)\n",
            "Requirement already satisfied: packaging>=20.0 in /usr/local/lib/python3.11/dist-packages (from spacy) (24.2)\n",
            "Requirement already satisfied: langcodes<4.0.0,>=3.2.0 in /usr/local/lib/python3.11/dist-packages (from spacy) (3.5.0)\n",
            "Requirement already satisfied: language-data>=1.2 in /usr/local/lib/python3.11/dist-packages (from langcodes<4.0.0,>=3.2.0->spacy) (1.3.0)\n",
            "Requirement already satisfied: annotated-types>=0.6.0 in /usr/local/lib/python3.11/dist-packages (from pydantic!=1.8,!=1.8.1,<3.0.0,>=1.7.4->spacy) (0.7.0)\n",
            "Requirement already satisfied: pydantic-core==2.33.0 in /usr/local/lib/python3.11/dist-packages (from pydantic!=1.8,!=1.8.1,<3.0.0,>=1.7.4->spacy) (2.33.0)\n",
            "Requirement already satisfied: typing-extensions>=4.12.2 in /usr/local/lib/python3.11/dist-packages (from pydantic!=1.8,!=1.8.1,<3.0.0,>=1.7.4->spacy) (4.13.0)\n",
            "Requirement already satisfied: typing-inspection>=0.4.0 in /usr/local/lib/python3.11/dist-packages (from pydantic!=1.8,!=1.8.1,<3.0.0,>=1.7.4->spacy) (0.4.0)\n",
            "Requirement already satisfied: charset-normalizer<4,>=2 in /usr/local/lib/python3.11/dist-packages (from requests<3.0.0,>=2.13.0->spacy) (3.4.1)\n",
            "Requirement already satisfied: idna<4,>=2.5 in /usr/local/lib/python3.11/dist-packages (from requests<3.0.0,>=2.13.0->spacy) (3.10)\n",
            "Requirement already satisfied: urllib3<3,>=1.21.1 in /usr/local/lib/python3.11/dist-packages (from requests<3.0.0,>=2.13.0->spacy) (2.3.0)\n",
            "Requirement already satisfied: certifi>=2017.4.17 in /usr/local/lib/python3.11/dist-packages (from requests<3.0.0,>=2.13.0->spacy) (2025.1.31)\n",
            "Requirement already satisfied: blis<1.3.0,>=1.2.0 in /usr/local/lib/python3.11/dist-packages (from thinc<8.4.0,>=8.3.4->spacy) (1.2.1)\n",
            "Requirement already satisfied: confection<1.0.0,>=0.0.1 in /usr/local/lib/python3.11/dist-packages (from thinc<8.4.0,>=8.3.4->spacy) (0.1.5)\n",
            "Requirement already satisfied: click>=8.0.0 in /usr/local/lib/python3.11/dist-packages (from typer<1.0.0,>=0.3.0->spacy) (8.1.8)\n",
            "Requirement already satisfied: shellingham>=1.3.0 in /usr/local/lib/python3.11/dist-packages (from typer<1.0.0,>=0.3.0->spacy) (1.5.4)\n",
            "Requirement already satisfied: rich>=10.11.0 in /usr/local/lib/python3.11/dist-packages (from typer<1.0.0,>=0.3.0->spacy) (13.9.4)\n",
            "Requirement already satisfied: cloudpathlib<1.0.0,>=0.7.0 in /usr/local/lib/python3.11/dist-packages (from weasel<0.5.0,>=0.1.0->spacy) (0.21.0)\n",
            "Requirement already satisfied: smart-open<8.0.0,>=5.2.1 in /usr/local/lib/python3.11/dist-packages (from weasel<0.5.0,>=0.1.0->spacy) (7.1.0)\n",
            "Requirement already satisfied: MarkupSafe>=2.0 in /usr/local/lib/python3.11/dist-packages (from jinja2->spacy) (3.0.2)\n",
            "Requirement already satisfied: marisa-trie>=1.1.0 in /usr/local/lib/python3.11/dist-packages (from language-data>=1.2->langcodes<4.0.0,>=3.2.0->spacy) (1.2.1)\n",
            "Requirement already satisfied: markdown-it-py>=2.2.0 in /usr/local/lib/python3.11/dist-packages (from rich>=10.11.0->typer<1.0.0,>=0.3.0->spacy) (3.0.0)\n",
            "Requirement already satisfied: pygments<3.0.0,>=2.13.0 in /usr/local/lib/python3.11/dist-packages (from rich>=10.11.0->typer<1.0.0,>=0.3.0->spacy) (2.18.0)\n",
            "Requirement already satisfied: wrapt in /usr/local/lib/python3.11/dist-packages (from smart-open<8.0.0,>=5.2.1->weasel<0.5.0,>=0.1.0->spacy) (1.17.2)\n",
            "Requirement already satisfied: mdurl~=0.1 in /usr/local/lib/python3.11/dist-packages (from markdown-it-py>=2.2.0->rich>=10.11.0->typer<1.0.0,>=0.3.0->spacy) (0.1.2)\n"
          ]
        }
      ],
      "source": [
        "# To use it in colab, update spacy\n",
        "!pip install --upgrade spacy"
      ]
    },
    {
      "cell_type": "code",
      "execution_count": 109,
      "id": "6a1c37cf",
      "metadata": {
        "colab": {
          "base_uri": "https://localhost:8080/"
        },
        "id": "6a1c37cf",
        "outputId": "6f09ddfd-0e74-421c-a069-83dd393caa66"
      },
      "outputs": [
        {
          "output_type": "stream",
          "name": "stdout",
          "text": [
            "Collecting en-core-web-md==3.8.0\n",
            "  Downloading https://github.com/explosion/spacy-models/releases/download/en_core_web_md-3.8.0/en_core_web_md-3.8.0-py3-none-any.whl (33.5 MB)\n",
            "\u001b[2K     \u001b[90m━━━━━━━━━━━━━━━━━━━━━━━━━━━━━━━━━━━━━━━━\u001b[0m \u001b[32m33.5/33.5 MB\u001b[0m \u001b[31m21.9 MB/s\u001b[0m eta \u001b[36m0:00:00\u001b[0m\n",
            "\u001b[?25h\u001b[38;5;2m✔ Download and installation successful\u001b[0m\n",
            "You can now load the package via spacy.load('en_core_web_md')\n",
            "\u001b[38;5;3m⚠ Restart to reload dependencies\u001b[0m\n",
            "If you are in a Jupyter or Colab notebook, you may need to restart Python in\n",
            "order to load all the package's dependencies. You can do this by selecting the\n",
            "'Restart kernel' or 'Restart runtime' option.\n"
          ]
        }
      ],
      "source": [
        "# Download language model\n",
        "\n",
        "!python -m spacy download en_core_web_md"
      ]
    },
    {
      "cell_type": "code",
      "execution_count": 110,
      "id": "2219fa36",
      "metadata": {
        "id": "2219fa36"
      },
      "outputs": [],
      "source": [
        "import numpy as np\n",
        "import pandas as pd\n",
        "import spacy\n",
        "\n",
        "\n",
        "%matplotlib inline\n",
        "%config InlineBackend.figure_format = 'retina'\n",
        "import matplotlib.pyplot as plt"
      ]
    },
    {
      "cell_type": "code",
      "source": [
        "from google.colab import drive\n",
        "drive.mount('/content/drive')"
      ],
      "metadata": {
        "id": "8__YUZc8ez0V",
        "colab": {
          "base_uri": "https://localhost:8080/"
        },
        "outputId": "803dcc84-31c7-4652-f4dd-20b3b2bbaf0c"
      },
      "id": "8__YUZc8ez0V",
      "execution_count": 111,
      "outputs": [
        {
          "output_type": "stream",
          "name": "stdout",
          "text": [
            "Drive already mounted at /content/drive; to attempt to forcibly remount, call drive.mount(\"/content/drive\", force_remount=True).\n"
          ]
        }
      ]
    },
    {
      "cell_type": "code",
      "execution_count": 112,
      "id": "028b065d",
      "metadata": {
        "id": "028b065d"
      },
      "outputs": [],
      "source": [
        "with open(\"Sentences.txt\", \"r\", encoding=\"ISO-8859-1\") as sentences:\n",
        "    lines = sentences.readlines()"
      ]
    },
    {
      "cell_type": "markdown",
      "id": "3126ead9",
      "metadata": {
        "id": "3126ead9"
      },
      "source": [
        "In lines, we have a list of sentences and an associted label, separated by the character `@`"
      ]
    },
    {
      "cell_type": "code",
      "execution_count": 113,
      "id": "043ba50d",
      "metadata": {
        "id": "043ba50d",
        "colab": {
          "base_uri": "https://localhost:8080/"
        },
        "outputId": "fa9ec228-62ae-489d-f82e-41d4df6cbfd3"
      },
      "outputs": [
        {
          "output_type": "stream",
          "name": "stdout",
          "text": [
            "According to Gran , the company has no plans to move all production to Russia , although that is where the company is growing .@neutral\n",
            "\n"
          ]
        }
      ],
      "source": [
        "print(lines[0])"
      ]
    },
    {
      "cell_type": "markdown",
      "id": "b5eeefa0",
      "metadata": {
        "id": "b5eeefa0"
      },
      "source": [
        "We split the sentence and we code with 0 neutral labels, with 1 negative labels, and with 2 positive labels"
      ]
    },
    {
      "cell_type": "code",
      "execution_count": 114,
      "id": "0230d0e8",
      "metadata": {
        "id": "0230d0e8"
      },
      "outputs": [],
      "source": [
        "phrases = [l.split('@')[0] for l in lines]\n",
        "opinions = [l.split('@')[1] for l in lines]\n",
        "\n",
        "\n",
        "def code_opinion(l):\n",
        "\n",
        "    d = 0\n",
        "\n",
        "    if (l=='negative\\n'):\n",
        "\n",
        "        d = 1\n",
        "\n",
        "    elif (l=='positive\\n'):\n",
        "\n",
        "        d = 2\n",
        "\n",
        "    return d\n",
        "\n",
        "labels = np.array([code_opinion(l) for l in opinions])\n"
      ]
    },
    {
      "cell_type": "code",
      "execution_count": 115,
      "id": "2b424746",
      "metadata": {
        "id": "2b424746",
        "colab": {
          "base_uri": "https://localhost:8080/",
          "height": 423
        },
        "outputId": "a8a0948e-e94f-4ced-fe6a-2be227d6e412"
      },
      "outputs": [
        {
          "output_type": "execute_result",
          "data": {
            "text/plain": [
              "                                                 Phrase     Opinion\n",
              "0     According to Gran , the company has no plans t...   neutral\\n\n",
              "1     With the new production plant the company woul...  positive\\n\n",
              "2     For the last quarter of 2010 , Componenta 's n...  positive\\n\n",
              "3     In the third quarter of 2010 , net sales incre...  positive\\n\n",
              "4     Operating profit rose to EUR 13.1 mn from EUR ...  positive\\n\n",
              "...                                                 ...         ...\n",
              "5712  Operating result for the 12-month period decre...  negative\\n\n",
              "5713  HELSINKI Thomson Financial - Shares in Cargote...  negative\\n\n",
              "5714  LONDON MarketWatch -- Share prices ended lower...  negative\\n\n",
              "5715  Operating profit fell to EUR 35.4 mn from EUR ...  negative\\n\n",
              "5716  Sales in Finland decreased by 10.5 % in Januar...  negative\\n\n",
              "\n",
              "[5717 rows x 2 columns]"
            ],
            "text/html": [
              "\n",
              "  <div id=\"df-a3308b83-cea2-4e3b-a207-33b21a9522a6\" class=\"colab-df-container\">\n",
              "    <div>\n",
              "<style scoped>\n",
              "    .dataframe tbody tr th:only-of-type {\n",
              "        vertical-align: middle;\n",
              "    }\n",
              "\n",
              "    .dataframe tbody tr th {\n",
              "        vertical-align: top;\n",
              "    }\n",
              "\n",
              "    .dataframe thead th {\n",
              "        text-align: right;\n",
              "    }\n",
              "</style>\n",
              "<table border=\"1\" class=\"dataframe\">\n",
              "  <thead>\n",
              "    <tr style=\"text-align: right;\">\n",
              "      <th></th>\n",
              "      <th>Phrase</th>\n",
              "      <th>Opinion</th>\n",
              "    </tr>\n",
              "  </thead>\n",
              "  <tbody>\n",
              "    <tr>\n",
              "      <th>0</th>\n",
              "      <td>According to Gran , the company has no plans t...</td>\n",
              "      <td>neutral\\n</td>\n",
              "    </tr>\n",
              "    <tr>\n",
              "      <th>1</th>\n",
              "      <td>With the new production plant the company woul...</td>\n",
              "      <td>positive\\n</td>\n",
              "    </tr>\n",
              "    <tr>\n",
              "      <th>2</th>\n",
              "      <td>For the last quarter of 2010 , Componenta 's n...</td>\n",
              "      <td>positive\\n</td>\n",
              "    </tr>\n",
              "    <tr>\n",
              "      <th>3</th>\n",
              "      <td>In the third quarter of 2010 , net sales incre...</td>\n",
              "      <td>positive\\n</td>\n",
              "    </tr>\n",
              "    <tr>\n",
              "      <th>4</th>\n",
              "      <td>Operating profit rose to EUR 13.1 mn from EUR ...</td>\n",
              "      <td>positive\\n</td>\n",
              "    </tr>\n",
              "    <tr>\n",
              "      <th>...</th>\n",
              "      <td>...</td>\n",
              "      <td>...</td>\n",
              "    </tr>\n",
              "    <tr>\n",
              "      <th>5712</th>\n",
              "      <td>Operating result for the 12-month period decre...</td>\n",
              "      <td>negative\\n</td>\n",
              "    </tr>\n",
              "    <tr>\n",
              "      <th>5713</th>\n",
              "      <td>HELSINKI Thomson Financial - Shares in Cargote...</td>\n",
              "      <td>negative\\n</td>\n",
              "    </tr>\n",
              "    <tr>\n",
              "      <th>5714</th>\n",
              "      <td>LONDON MarketWatch -- Share prices ended lower...</td>\n",
              "      <td>negative\\n</td>\n",
              "    </tr>\n",
              "    <tr>\n",
              "      <th>5715</th>\n",
              "      <td>Operating profit fell to EUR 35.4 mn from EUR ...</td>\n",
              "      <td>negative\\n</td>\n",
              "    </tr>\n",
              "    <tr>\n",
              "      <th>5716</th>\n",
              "      <td>Sales in Finland decreased by 10.5 % in Januar...</td>\n",
              "      <td>negative\\n</td>\n",
              "    </tr>\n",
              "  </tbody>\n",
              "</table>\n",
              "<p>5717 rows × 2 columns</p>\n",
              "</div>\n",
              "    <div class=\"colab-df-buttons\">\n",
              "\n",
              "  <div class=\"colab-df-container\">\n",
              "    <button class=\"colab-df-convert\" onclick=\"convertToInteractive('df-a3308b83-cea2-4e3b-a207-33b21a9522a6')\"\n",
              "            title=\"Convert this dataframe to an interactive table.\"\n",
              "            style=\"display:none;\">\n",
              "\n",
              "  <svg xmlns=\"http://www.w3.org/2000/svg\" height=\"24px\" viewBox=\"0 -960 960 960\">\n",
              "    <path d=\"M120-120v-720h720v720H120Zm60-500h600v-160H180v160Zm220 220h160v-160H400v160Zm0 220h160v-160H400v160ZM180-400h160v-160H180v160Zm440 0h160v-160H620v160ZM180-180h160v-160H180v160Zm440 0h160v-160H620v160Z\"/>\n",
              "  </svg>\n",
              "    </button>\n",
              "\n",
              "  <style>\n",
              "    .colab-df-container {\n",
              "      display:flex;\n",
              "      gap: 12px;\n",
              "    }\n",
              "\n",
              "    .colab-df-convert {\n",
              "      background-color: #E8F0FE;\n",
              "      border: none;\n",
              "      border-radius: 50%;\n",
              "      cursor: pointer;\n",
              "      display: none;\n",
              "      fill: #1967D2;\n",
              "      height: 32px;\n",
              "      padding: 0 0 0 0;\n",
              "      width: 32px;\n",
              "    }\n",
              "\n",
              "    .colab-df-convert:hover {\n",
              "      background-color: #E2EBFA;\n",
              "      box-shadow: 0px 1px 2px rgba(60, 64, 67, 0.3), 0px 1px 3px 1px rgba(60, 64, 67, 0.15);\n",
              "      fill: #174EA6;\n",
              "    }\n",
              "\n",
              "    .colab-df-buttons div {\n",
              "      margin-bottom: 4px;\n",
              "    }\n",
              "\n",
              "    [theme=dark] .colab-df-convert {\n",
              "      background-color: #3B4455;\n",
              "      fill: #D2E3FC;\n",
              "    }\n",
              "\n",
              "    [theme=dark] .colab-df-convert:hover {\n",
              "      background-color: #434B5C;\n",
              "      box-shadow: 0px 1px 3px 1px rgba(0, 0, 0, 0.15);\n",
              "      filter: drop-shadow(0px 1px 2px rgba(0, 0, 0, 0.3));\n",
              "      fill: #FFFFFF;\n",
              "    }\n",
              "  </style>\n",
              "\n",
              "    <script>\n",
              "      const buttonEl =\n",
              "        document.querySelector('#df-a3308b83-cea2-4e3b-a207-33b21a9522a6 button.colab-df-convert');\n",
              "      buttonEl.style.display =\n",
              "        google.colab.kernel.accessAllowed ? 'block' : 'none';\n",
              "\n",
              "      async function convertToInteractive(key) {\n",
              "        const element = document.querySelector('#df-a3308b83-cea2-4e3b-a207-33b21a9522a6');\n",
              "        const dataTable =\n",
              "          await google.colab.kernel.invokeFunction('convertToInteractive',\n",
              "                                                    [key], {});\n",
              "        if (!dataTable) return;\n",
              "\n",
              "        const docLinkHtml = 'Like what you see? Visit the ' +\n",
              "          '<a target=\"_blank\" href=https://colab.research.google.com/notebooks/data_table.ipynb>data table notebook</a>'\n",
              "          + ' to learn more about interactive tables.';\n",
              "        element.innerHTML = '';\n",
              "        dataTable['output_type'] = 'display_data';\n",
              "        await google.colab.output.renderOutput(dataTable, element);\n",
              "        const docLink = document.createElement('div');\n",
              "        docLink.innerHTML = docLinkHtml;\n",
              "        element.appendChild(docLink);\n",
              "      }\n",
              "    </script>\n",
              "  </div>\n",
              "\n",
              "\n",
              "<div id=\"df-d8648e18-7803-4ef5-8dc2-29758fe03fd7\">\n",
              "  <button class=\"colab-df-quickchart\" onclick=\"quickchart('df-d8648e18-7803-4ef5-8dc2-29758fe03fd7')\"\n",
              "            title=\"Suggest charts\"\n",
              "            style=\"display:none;\">\n",
              "\n",
              "<svg xmlns=\"http://www.w3.org/2000/svg\" height=\"24px\"viewBox=\"0 0 24 24\"\n",
              "     width=\"24px\">\n",
              "    <g>\n",
              "        <path d=\"M19 3H5c-1.1 0-2 .9-2 2v14c0 1.1.9 2 2 2h14c1.1 0 2-.9 2-2V5c0-1.1-.9-2-2-2zM9 17H7v-7h2v7zm4 0h-2V7h2v10zm4 0h-2v-4h2v4z\"/>\n",
              "    </g>\n",
              "</svg>\n",
              "  </button>\n",
              "\n",
              "<style>\n",
              "  .colab-df-quickchart {\n",
              "      --bg-color: #E8F0FE;\n",
              "      --fill-color: #1967D2;\n",
              "      --hover-bg-color: #E2EBFA;\n",
              "      --hover-fill-color: #174EA6;\n",
              "      --disabled-fill-color: #AAA;\n",
              "      --disabled-bg-color: #DDD;\n",
              "  }\n",
              "\n",
              "  [theme=dark] .colab-df-quickchart {\n",
              "      --bg-color: #3B4455;\n",
              "      --fill-color: #D2E3FC;\n",
              "      --hover-bg-color: #434B5C;\n",
              "      --hover-fill-color: #FFFFFF;\n",
              "      --disabled-bg-color: #3B4455;\n",
              "      --disabled-fill-color: #666;\n",
              "  }\n",
              "\n",
              "  .colab-df-quickchart {\n",
              "    background-color: var(--bg-color);\n",
              "    border: none;\n",
              "    border-radius: 50%;\n",
              "    cursor: pointer;\n",
              "    display: none;\n",
              "    fill: var(--fill-color);\n",
              "    height: 32px;\n",
              "    padding: 0;\n",
              "    width: 32px;\n",
              "  }\n",
              "\n",
              "  .colab-df-quickchart:hover {\n",
              "    background-color: var(--hover-bg-color);\n",
              "    box-shadow: 0 1px 2px rgba(60, 64, 67, 0.3), 0 1px 3px 1px rgba(60, 64, 67, 0.15);\n",
              "    fill: var(--button-hover-fill-color);\n",
              "  }\n",
              "\n",
              "  .colab-df-quickchart-complete:disabled,\n",
              "  .colab-df-quickchart-complete:disabled:hover {\n",
              "    background-color: var(--disabled-bg-color);\n",
              "    fill: var(--disabled-fill-color);\n",
              "    box-shadow: none;\n",
              "  }\n",
              "\n",
              "  .colab-df-spinner {\n",
              "    border: 2px solid var(--fill-color);\n",
              "    border-color: transparent;\n",
              "    border-bottom-color: var(--fill-color);\n",
              "    animation:\n",
              "      spin 1s steps(1) infinite;\n",
              "  }\n",
              "\n",
              "  @keyframes spin {\n",
              "    0% {\n",
              "      border-color: transparent;\n",
              "      border-bottom-color: var(--fill-color);\n",
              "      border-left-color: var(--fill-color);\n",
              "    }\n",
              "    20% {\n",
              "      border-color: transparent;\n",
              "      border-left-color: var(--fill-color);\n",
              "      border-top-color: var(--fill-color);\n",
              "    }\n",
              "    30% {\n",
              "      border-color: transparent;\n",
              "      border-left-color: var(--fill-color);\n",
              "      border-top-color: var(--fill-color);\n",
              "      border-right-color: var(--fill-color);\n",
              "    }\n",
              "    40% {\n",
              "      border-color: transparent;\n",
              "      border-right-color: var(--fill-color);\n",
              "      border-top-color: var(--fill-color);\n",
              "    }\n",
              "    60% {\n",
              "      border-color: transparent;\n",
              "      border-right-color: var(--fill-color);\n",
              "    }\n",
              "    80% {\n",
              "      border-color: transparent;\n",
              "      border-right-color: var(--fill-color);\n",
              "      border-bottom-color: var(--fill-color);\n",
              "    }\n",
              "    90% {\n",
              "      border-color: transparent;\n",
              "      border-bottom-color: var(--fill-color);\n",
              "    }\n",
              "  }\n",
              "</style>\n",
              "\n",
              "  <script>\n",
              "    async function quickchart(key) {\n",
              "      const quickchartButtonEl =\n",
              "        document.querySelector('#' + key + ' button');\n",
              "      quickchartButtonEl.disabled = true;  // To prevent multiple clicks.\n",
              "      quickchartButtonEl.classList.add('colab-df-spinner');\n",
              "      try {\n",
              "        const charts = await google.colab.kernel.invokeFunction(\n",
              "            'suggestCharts', [key], {});\n",
              "      } catch (error) {\n",
              "        console.error('Error during call to suggestCharts:', error);\n",
              "      }\n",
              "      quickchartButtonEl.classList.remove('colab-df-spinner');\n",
              "      quickchartButtonEl.classList.add('colab-df-quickchart-complete');\n",
              "    }\n",
              "    (() => {\n",
              "      let quickchartButtonEl =\n",
              "        document.querySelector('#df-d8648e18-7803-4ef5-8dc2-29758fe03fd7 button');\n",
              "      quickchartButtonEl.style.display =\n",
              "        google.colab.kernel.accessAllowed ? 'block' : 'none';\n",
              "    })();\n",
              "  </script>\n",
              "</div>\n",
              "\n",
              "  <div id=\"id_ab9b0e1b-1e58-43a7-a790-9d10d30d8725\">\n",
              "    <style>\n",
              "      .colab-df-generate {\n",
              "        background-color: #E8F0FE;\n",
              "        border: none;\n",
              "        border-radius: 50%;\n",
              "        cursor: pointer;\n",
              "        display: none;\n",
              "        fill: #1967D2;\n",
              "        height: 32px;\n",
              "        padding: 0 0 0 0;\n",
              "        width: 32px;\n",
              "      }\n",
              "\n",
              "      .colab-df-generate:hover {\n",
              "        background-color: #E2EBFA;\n",
              "        box-shadow: 0px 1px 2px rgba(60, 64, 67, 0.3), 0px 1px 3px 1px rgba(60, 64, 67, 0.15);\n",
              "        fill: #174EA6;\n",
              "      }\n",
              "\n",
              "      [theme=dark] .colab-df-generate {\n",
              "        background-color: #3B4455;\n",
              "        fill: #D2E3FC;\n",
              "      }\n",
              "\n",
              "      [theme=dark] .colab-df-generate:hover {\n",
              "        background-color: #434B5C;\n",
              "        box-shadow: 0px 1px 3px 1px rgba(0, 0, 0, 0.15);\n",
              "        filter: drop-shadow(0px 1px 2px rgba(0, 0, 0, 0.3));\n",
              "        fill: #FFFFFF;\n",
              "      }\n",
              "    </style>\n",
              "    <button class=\"colab-df-generate\" onclick=\"generateWithVariable('df')\"\n",
              "            title=\"Generate code using this dataframe.\"\n",
              "            style=\"display:none;\">\n",
              "\n",
              "  <svg xmlns=\"http://www.w3.org/2000/svg\" height=\"24px\"viewBox=\"0 0 24 24\"\n",
              "       width=\"24px\">\n",
              "    <path d=\"M7,19H8.4L18.45,9,17,7.55,7,17.6ZM5,21V16.75L18.45,3.32a2,2,0,0,1,2.83,0l1.4,1.43a1.91,1.91,0,0,1,.58,1.4,1.91,1.91,0,0,1-.58,1.4L9.25,21ZM18.45,9,17,7.55Zm-12,3A5.31,5.31,0,0,0,4.9,8.1,5.31,5.31,0,0,0,1,6.5,5.31,5.31,0,0,0,4.9,4.9,5.31,5.31,0,0,0,6.5,1,5.31,5.31,0,0,0,8.1,4.9,5.31,5.31,0,0,0,12,6.5,5.46,5.46,0,0,0,6.5,12Z\"/>\n",
              "  </svg>\n",
              "    </button>\n",
              "    <script>\n",
              "      (() => {\n",
              "      const buttonEl =\n",
              "        document.querySelector('#id_ab9b0e1b-1e58-43a7-a790-9d10d30d8725 button.colab-df-generate');\n",
              "      buttonEl.style.display =\n",
              "        google.colab.kernel.accessAllowed ? 'block' : 'none';\n",
              "\n",
              "      buttonEl.onclick = () => {\n",
              "        google.colab.notebook.generateWithVariable('df');\n",
              "      }\n",
              "      })();\n",
              "    </script>\n",
              "  </div>\n",
              "\n",
              "    </div>\n",
              "  </div>\n"
            ],
            "application/vnd.google.colaboratory.intrinsic+json": {
              "type": "dataframe",
              "variable_name": "df",
              "summary": "{\n  \"name\": \"df\",\n  \"rows\": 5717,\n  \"fields\": [\n    {\n      \"column\": \"Phrase\",\n      \"properties\": {\n        \"dtype\": \"string\",\n        \"num_unique_values\": 3448,\n        \"samples\": [\n          \"The period-end cash and cash equivalents totaled EUR6 .5 m , compared to EUR10 .5 m in the previous year .\",\n          \"In June it sold a 30 percent stake to Nordstjernan , and the investment group has now taken up the option to acquire EQT 's remaining shares .\",\n          \"The aim is an annual improvement in Ruukki Construction 's operating profit of more than EUR 3 million USD 4.1 m starting in 2009 .\"\n        ],\n        \"semantic_type\": \"\",\n        \"description\": \"\"\n      }\n    },\n    {\n      \"column\": \"Opinion\",\n      \"properties\": {\n        \"dtype\": \"category\",\n        \"num_unique_values\": 3,\n        \"samples\": [\n          \"neutral\\n\",\n          \"positive\\n\",\n          \"negative\\n\"\n        ],\n        \"semantic_type\": \"\",\n        \"description\": \"\"\n      }\n    }\n  ]\n}"
            }
          },
          "metadata": {},
          "execution_count": 115
        }
      ],
      "source": [
        "df = pd.DataFrame({\"Phrase\":phrases,\n",
        "                  \"Opinion\":opinions})\n",
        "\n",
        "df"
      ]
    },
    {
      "cell_type": "markdown",
      "id": "020659ea",
      "metadata": {
        "id": "020659ea"
      },
      "source": [
        "Lets plot the histogram of the labels ..."
      ]
    },
    {
      "cell_type": "code",
      "execution_count": 116,
      "id": "3afa14ee",
      "metadata": {
        "id": "3afa14ee",
        "colab": {
          "base_uri": "https://localhost:8080/",
          "height": 470
        },
        "outputId": "3868fd36-d0a0-465e-da1a-5b94f67045a8"
      },
      "outputs": [
        {
          "output_type": "display_data",
          "data": {
            "text/plain": [
              "<Figure size 640x480 with 1 Axes>"
            ],
            "image/png": "[encoded data removed]"
          },
          "metadata": {
            "image/png": {
              "width": 562,
              "height": 453
            }
          }
        }
      ],
      "source": [
        "fig,ax = plt.subplots(1,1)\n",
        "\n",
        "ax.hist(labels)\n",
        "ax.set_xticks([0,1,2])\n",
        "ax.set_xticklabels(['Neutral','Negative','Positive'],rotation=45)\n",
        "ax.grid()\n"
      ]
    },
    {
      "cell_type": "markdown",
      "id": "7df0a68b",
      "metadata": {
        "id": "7df0a68b"
      },
      "source": [
        "To simplify the problem, we're fusing together *Neutral* and *Positive* labels. So label 1 is *Negative review* and label 0 is *Positive+Neutral*. Also, we separate between train, validation and test."
      ]
    },
    {
      "cell_type": "code",
      "execution_count": 117,
      "id": "af3245b5",
      "metadata": {
        "id": "af3245b5"
      },
      "outputs": [],
      "source": [
        "from sklearn.model_selection import train_test_split\n",
        "\n",
        "labels_bin = labels.copy()\n",
        "\n",
        "labels_bin[labels_bin==2] = 0\n",
        "\n",
        "idx_data = np.arange(0,len(df),1)\n",
        "\n",
        "# Separamos train de test\n",
        "idx_train, idx_test, y_train, y_test = train_test_split(idx_data, labels_bin, test_size=0.2, random_state=0)\n",
        "\n",
        "# Separamos train de val\n",
        "idx_train, idx_val, y_train, y_val = train_test_split(idx_train, y_train, test_size=0.2, random_state=0)\n",
        "\n",
        "acc_baseline_train = np.sum(y_train==0)/y_train.shape[0]"
      ]
    },
    {
      "cell_type": "markdown",
      "id": "64a4b376",
      "metadata": {
        "id": "64a4b376"
      },
      "source": [
        "### Text pre-processing"
      ]
    },
    {
      "cell_type": "markdown",
      "id": "cbee5655",
      "metadata": {
        "id": "cbee5655"
      },
      "source": [
        "With the following code, we pre-process using Spacy each sentence by removing words that are punctuation marks. We also remove [stopping words](https://nlp.stanford.edu/IR-book/html/htmledition/dropping-common-terms-stop-words-1.html) (words that are not very informative). As a result, we have the list `norm_docs`."
      ]
    },
    {
      "cell_type": "code",
      "execution_count": 118,
      "id": "a84793ea",
      "metadata": {
        "id": "a84793ea"
      },
      "outputs": [],
      "source": [
        "nlp = spacy.load(\"en_core_web_md\") # Language model\n",
        "\n",
        "\n",
        "docs = [nlp(c) for c in phrases]\n",
        "\n",
        "# We remove punctuation marks (.,;:?!...) and stopping words\n",
        "def normalize(doc):\n",
        "\n",
        "    return [w for w in doc if w.has_vector and not w.is_punct and not w.is_stop]\n",
        "\n",
        "norm_docs = [normalize(d) for d in docs]\n",
        "\n"
      ]
    },
    {
      "cell_type": "markdown",
      "id": "c50e7c75",
      "metadata": {
        "id": "c50e7c75"
      },
      "source": [
        "Every item of `norm_docs` corresponds to each of the sentences in the dataset. Each item is itself a list of spacy tokens (basically words with different attributes). The most important attribute for us the the *word embedding vector*. For instance, lets print the first sentence"
      ]
    },
    {
      "cell_type": "code",
      "execution_count": 119,
      "id": "1fff2e5c",
      "metadata": {
        "id": "1fff2e5c",
        "colab": {
          "base_uri": "https://localhost:8080/"
        },
        "outputId": "ab827335-fd90-44c0-8e4a-2be9f987b001"
      },
      "outputs": [
        {
          "output_type": "stream",
          "name": "stdout",
          "text": [
            "The first original sentence is: According to Gran , the company has no plans to move all production to Russia , although that is where the company is growing .\n",
            "\n",
            "The first normalized sentence is: [According, Gran, company, plans, production, Russia, company, growing]. The length of the document is 8 tokens\n"
          ]
        }
      ],
      "source": [
        "print(f'The first original sentence is: {phrases[0]}\\n')\n",
        "\n",
        "print(f'The first normalized sentence is: {norm_docs[0]}. The length of the document is {len(norm_docs[0])} tokens')"
      ]
    },
    {
      "cell_type": "markdown",
      "id": "d985b023",
      "metadata": {
        "id": "d985b023"
      },
      "source": [
        "We can access to the word embedding of each token using the attribute `.vector`:"
      ]
    },
    {
      "cell_type": "code",
      "execution_count": 120,
      "id": "687aecc3",
      "metadata": {
        "id": "687aecc3",
        "colab": {
          "base_uri": "https://localhost:8080/"
        },
        "outputId": "e7187378-fdfc-4308-9dc4-0af1177c5667"
      },
      "outputs": [
        {
          "output_type": "stream",
          "name": "stdout",
          "text": [
            "The word embedding associated with the token According is\n",
            "\n",
            "[-8.6201e-01  2.7651e-01 -1.1209e-01  2.9973e-01 -3.2215e-01  1.6662e-01\n",
            "  3.2387e-01 -2.6418e-01 -9.4269e-02  2.6968e+00 -7.7937e-01 -2.2293e-01\n",
            "  1.3259e-01 -6.0331e-02 -5.6518e-01 -1.2697e-01 -9.6146e-04  9.5577e-01\n",
            " -1.5316e-01 -2.0736e-01  5.1995e-01  2.4404e-01  4.2409e-01 -3.2843e-01\n",
            "  4.6414e-02  7.0281e-01 -5.6748e-02 -3.1359e-02  5.4413e-04 -2.9599e-01\n",
            " -1.2435e-01  2.9698e-02  2.0202e-02  4.3861e-01 -3.5973e-01  2.7488e-01\n",
            " -2.0768e-01  2.4601e-01 -9.2236e-02 -1.7892e-01  1.0122e-01 -2.2294e-02\n",
            "  3.3674e-01 -2.5970e-01  1.0073e-02 -1.5973e-01  2.2097e-02  1.1015e-01\n",
            "  1.6586e-01 -3.8621e-01 -5.5923e-01 -1.8715e-02 -1.0099e-01 -1.2273e-01\n",
            " -8.5288e-02 -6.0562e-02 -3.4501e-01  2.3143e-01  7.2903e-02 -1.3168e-01\n",
            "  1.7436e-01 -7.8168e-02  5.2544e-02  7.1861e-01  2.0201e-01 -2.6284e-02\n",
            "  1.2912e-01 -9.9609e-02 -2.0977e-02  8.3424e-01  2.4343e-01 -7.6616e-02\n",
            "  7.5797e-01  1.1665e-01  6.8503e-01 -2.3969e-01 -1.1874e-01 -2.6285e-01\n",
            " -1.2579e-01  5.7214e-02  6.2780e-02  2.3520e-01 -1.3895e-02  3.6153e-01\n",
            " -2.5211e-01 -2.8394e-01 -4.2244e-01 -6.4730e-01 -3.5867e-02  4.2154e-01\n",
            "  3.2547e-01 -8.5423e-02 -1.4738e-01 -4.4997e-01  1.5658e-01 -5.4494e-01\n",
            " -1.7536e-02  5.1365e-02  8.0250e-01  2.3768e-03  5.5978e-02  1.9406e-01\n",
            "  7.6418e-02  1.3540e-01 -3.7818e-01 -7.9210e-01  1.8207e-01  1.0666e-01\n",
            "  1.2814e-01 -2.3423e-01 -4.9533e-02  1.9053e-01 -4.3494e-01  3.7067e-01\n",
            "  2.1406e-01  4.5726e-01 -2.8263e-01 -2.8637e-02  2.9820e-02 -1.2408e-01\n",
            "  5.0389e-02  2.0739e-01  1.2662e-01 -2.4992e-01 -2.3809e-01  3.4391e-02\n",
            " -5.0045e-02 -3.9001e-01 -1.6011e-01 -1.7382e-01  3.8078e-01 -2.9090e-02\n",
            " -1.9657e-01  1.2721e-01  2.3616e-02  6.5187e-01  7.5107e-02 -2.7315e-01\n",
            "  3.1052e-01 -1.1755e-01  3.5083e-01 -1.6923e-01  4.7568e-01 -5.3413e-01\n",
            " -3.6001e-02 -4.2661e-01 -1.9489e-01  3.3570e-01 -1.0289e-01 -2.7072e-01\n",
            "  2.8095e-01  9.9431e-02  3.3431e-01 -2.2876e-01  2.2340e-01  3.6577e-01\n",
            " -1.5189e-01  5.4580e-01 -3.1151e-01 -2.2357e-01  7.4914e-02  1.4302e-01\n",
            " -1.2007e-01  2.8454e-02 -6.5706e-01  2.8540e-01 -1.6415e-01  2.1825e-01\n",
            "  2.5792e-01 -1.9770e-01 -5.5616e-02 -3.0275e-01 -2.8658e-01 -3.0964e-01\n",
            "  1.8269e-02  1.4147e-01  6.3578e-01 -5.8701e-02 -4.1875e-01  7.5901e-01\n",
            " -6.1809e-01  2.5919e-01 -9.1342e-02  5.0756e-02  2.3157e-01  1.7248e-01\n",
            " -1.1036e-01  4.1037e-01 -4.9521e-01 -2.9590e-01  1.1619e-01  1.2180e-01\n",
            " -2.2854e-01  4.5350e-01 -1.1276e-01  4.0012e-01  1.2112e-01 -1.6303e-01\n",
            " -3.7259e-01 -3.8068e-01 -2.2622e-01  3.7108e-02 -1.1991e-01  1.8088e-01\n",
            "  1.7325e-01 -8.6585e-02  3.0349e-02  4.3789e-01 -2.4315e-01  4.1742e-01\n",
            "  3.2704e-01 -1.2688e-02  2.1881e-02  1.3824e-02  4.7779e-02 -8.2258e-02\n",
            " -4.2826e-01  1.6992e-01 -3.0249e-01 -5.9945e-02 -2.9488e-01 -2.8473e-01\n",
            " -2.8394e-01  2.8204e-01 -3.0627e-01  9.6415e-02 -3.3293e-01 -8.7120e-02\n",
            "  2.8508e-01 -1.1283e-01 -1.0169e-01  6.7239e-01  2.7292e-02  3.4787e-01\n",
            "  8.2950e-02 -6.3724e-02 -1.6224e-01 -2.3958e-01  2.1090e-01  6.0413e-01\n",
            " -2.9977e-01 -3.5805e-01  1.5823e-01 -7.2733e-01  2.5410e-01 -2.5322e-01\n",
            "  4.7939e-01  1.5153e-02  1.4156e-01 -7.0484e-02  1.8614e-01  1.2491e-01\n",
            " -2.3180e-01 -1.6349e-01  6.2412e-01 -2.0452e-01  7.8166e-02 -3.5767e-01\n",
            " -9.2145e-02 -3.9466e-01  3.9195e-01 -3.7713e-02 -3.3813e-01 -1.6506e-01\n",
            "  3.1591e-01 -6.4982e-01  2.8108e-01  4.9543e-01  8.7389e-01 -1.6642e-01\n",
            "  3.2304e-02 -2.9488e-01  3.1232e-01 -1.9267e-02  2.0005e-01 -1.9114e-02\n",
            "  3.9732e-02  1.6810e-01 -3.1016e-01  1.0786e-01  4.9060e-01 -8.1845e-02\n",
            " -2.8791e-01  1.3349e-01 -9.5110e-02  3.3505e-01 -2.0050e-02  1.3483e-01\n",
            " -2.6453e-02 -1.5750e-01 -2.5856e-01  5.6588e-01  6.2737e-01 -4.3038e-03\n",
            "  2.6125e-01 -6.3719e-01 -5.4943e-01 -2.9787e-02  3.0704e-01 -1.9168e-02]\n"
          ]
        }
      ],
      "source": [
        "print(f'The word embedding associated with the token {norm_docs[0][0].text} is\\n')\n",
        "print(norm_docs[0][0].vector)"
      ]
    },
    {
      "cell_type": "markdown",
      "id": "b30b4698",
      "metadata": {
        "id": "b30b4698"
      },
      "source": [
        "You can check that the word embedding dimension is 300 ..."
      ]
    },
    {
      "cell_type": "code",
      "execution_count": 121,
      "id": "40bd93b3",
      "metadata": {
        "id": "40bd93b3",
        "colab": {
          "base_uri": "https://localhost:8080/"
        },
        "outputId": "89ec4ef7-e06a-487a-b32a-2ffcf7ebddea"
      },
      "outputs": [
        {
          "output_type": "stream",
          "name": "stdout",
          "text": [
            "The WE dimension is (300,)\n"
          ]
        }
      ],
      "source": [
        "print(f'The WE dimension is {norm_docs[0][0].vector.shape}')"
      ]
    },
    {
      "cell_type": "markdown",
      "id": "84ff1de2",
      "metadata": {
        "id": "84ff1de2"
      },
      "source": [
        "### Length normalization\n",
        "\n",
        "Note that in this problem we're working with sequences of text of different length. This is in principle not a problem for RNNs. However, there's one additional pre-processing step that we have to do. When we feed the RNN function **all sequences in the mini-batch must have the same length**. Then we will use the corresponding state to make the prediction.\n",
        "\n",
        "For simplicity, we are taking here a non-efficient solution. Instead of normalize lengths at a batch level, we are normalizing the whole dataset so all sequences have the same length. To do so, we're adding **junk tokens** to all sentences so they artificially are of the same length. However, we will keep in a list the real length of each data, since the sentiment analysis prediction will be made using the RNN state corresponding to the **last real token**.\n",
        "\n"
      ]
    },
    {
      "cell_type": "code",
      "execution_count": 122,
      "id": "f0dcda70",
      "metadata": {
        "id": "f0dcda70"
      },
      "outputs": [],
      "source": [
        "# List with the length for each sentence\n",
        "\n",
        "lengths = [len(d) for d in norm_docs]\n",
        "\n",
        "# Maximum length (in train!)\n",
        "max_l = np.max([lengths[d] for d in idx_train])"
      ]
    },
    {
      "cell_type": "code",
      "execution_count": 123,
      "id": "e276331d",
      "metadata": {
        "id": "e276331d"
      },
      "outputs": [],
      "source": [
        "# We add as many junk tokens (#) as needed to equalize the length of each sentence to max_l\n",
        "\n",
        "garbage_token = nlp('#') # Junk token --> #\n",
        "\n",
        "# We normalize the dataset\n",
        "\n",
        "norm_docs_eq_length = [norm_docs[d]+[garbage_token]*(max_l-lengths[d]) for d in range(len(norm_docs))]\n",
        "\n",
        "# Train documents\n",
        "\n",
        "docs_train = [norm_docs_eq_length[d] for d in idx_train]\n",
        "\n",
        "len_train = [lengths[d] for d in idx_train]\n",
        "\n",
        "# Validation documents\n",
        "\n",
        "docs_val = [norm_docs_eq_length[d] for d in idx_val]\n",
        "\n",
        "len_val = [lengths[d] for d in idx_val]\n",
        "\n",
        "# documentos test\n",
        "\n",
        "docs_test = [norm_docs_eq_length[d] for d in idx_test]\n",
        "\n",
        "len_test = [lengths[d] for d in idx_test]"
      ]
    },
    {
      "cell_type": "markdown",
      "id": "0ac7827c",
      "metadata": {
        "id": "0ac7827c"
      },
      "source": [
        "Recall that for each document, the sequence of word embeddings is obtained using the `.vector` attribute per token ..."
      ]
    },
    {
      "cell_type": "markdown",
      "id": "ea418f47",
      "metadata": {
        "id": "ea418f47"
      },
      "source": [
        "### RNN classification\n",
        "\n",
        "Our goal is to implement an LSTM that takes as input the sequence of word embeddings and predicts the binary label. In the list `lengths` we have the length per document (before adding the junk tokens). The LSTM prediction **must be done using the LSTM state after processing the last real token**. That means we ignore the LSTM states after we start processing the junk tokens.\n",
        "\n",
        "\n",
        "A few comments:\n",
        "\n",
        "- The LSTM is trained using mini-batches. So the input is a tensor of dimension (batch_size, seq_length, max_l). You have to generate this tensor using the lists implemented before (`docs_train`, `docs_val`, `docs_test`).\n",
        "- You don't care about the LSTM initializaiton. Use the default one.\n",
        "- The LSTM provides the list of states upon processing the sequences of max_l word embeddings. For each sentence, you have to predict the label using the appropiate state (the one after processing the last real word). My advise is that you store in a list the decision states for each data in the minibatch and then concatenate them in a tensor using `torch.stack`.\n",
        "- We will use a single MLP layer to perform the prediction. Between the LSTM and the MLP, we include a dropout layer.\n",
        "- The network will take some time to train, so my advise is to save the network parameters after each epoch (in a separate file), so early stopping can be implemented without re-training.\n",
        "- Validate the dimension of the LSTM state.\n",
        "\n",
        "<img src='http://www.tsc.uc3m.es/~olmos/BBVA/RNN.png' width=800 />\n",
        "\n",
        "\n"
      ]
    },
    {
      "cell_type": "code",
      "execution_count": 124,
      "id": "29faf6f4",
      "metadata": {
        "id": "29faf6f4"
      },
      "outputs": [],
      "source": [
        "from torch import nn\n",
        "from torch import optim\n",
        "import torch"
      ]
    },
    {
      "cell_type": "markdown",
      "id": "edc64b04",
      "metadata": {
        "id": "edc64b04"
      },
      "source": [
        ">**Exercise 1:** Complete the following code to construct the RNN classifier"
      ]
    },
    {
      "cell_type": "code",
      "source": [
        "import torch\n",
        "import torch.nn as nn\n",
        "\n",
        "class RNN(nn.Module):\n",
        "    def __init__(self, input_size, output_size, hidden_dim, n_layers, prob=0.5):\n",
        "        super().__init__()\n",
        "\n",
        "        self.hidden_dim = hidden_dim\n",
        "        self.input_size = input_size\n",
        "        self.n_layers = n_layers\n",
        "\n",
        "        # LSTM layer\n",
        "        self.rnn = nn.LSTM(input_size, hidden_dim, n_layers, batch_first=True)\n",
        "\n",
        "        # Fully connected layer\n",
        "        self.fc1 = nn.Linear(hidden_dim, output_size)\n",
        "\n",
        "        # LogSoftmax layer\n",
        "        self.logsoftmax = nn.LogSoftmax(dim=1)\n",
        "\n",
        "        # Dropout layer\n",
        "        self.dropout = nn.Dropout(p=prob)\n",
        "\n",
        "    def forward(self, x, lengths, h0=None):\n",
        "        '''\n",
        "        - x: Sequences of word embeddings. Dimensions (batch_size, max_l, word_embedding_size)\n",
        "        - lengths: The real length of each sequence, excluding the junk # tokens! You use this to know what\n",
        "          RNN state you should use to classify\n",
        "        '''\n",
        "\n",
        "        batch_size = x.size(0)\n",
        "        seq_length = x.size(1)\n",
        "\n",
        "        # Compute the RNN output (sequence of states for the whole input)\n",
        "        r_out, _ = self.rnn(x)\n",
        "\n",
        "        # Now it comes the tricky part. You have to stack in a (batch_size, hidden_dim) tensor, the right state\n",
        "        # for each sequence. Namely, the state after processing the last real token (not the junk # ones)\n",
        "        # The function torch.stack() can be handy\n",
        "\n",
        "        aux = torch.stack([r_out[d, lengths[d]-1, :] for d in range(batch_size)]).reshape([-1, self.hidden_dim])\n",
        "\n",
        "        # We classify using such tensor (don't forget the dropout!)\n",
        "        output = self.logsoftmax(self.fc1(self.dropout(aux)))\n",
        "\n",
        "        return output\n"
      ],
      "metadata": {
        "id": "cff_QPREnHZZ"
      },
      "id": "cff_QPREnHZZ",
      "execution_count": 125,
      "outputs": []
    },
    {
      "cell_type": "markdown",
      "id": "fc9e16f1",
      "metadata": {
        "id": "fc9e16f1"
      },
      "source": [
        "Let's first illustrate how we can get the output of the (untrained) RNN network given our texts. For example, let's get the RNN output for the first three training texts. The first step is to get the **sequences of word embeddings** of each of them..."
      ]
    },
    {
      "cell_type": "code",
      "execution_count": 126,
      "id": "43c2d15b",
      "metadata": {
        "id": "43c2d15b"
      },
      "outputs": [],
      "source": [
        "idx = [0,1,2] #changing these parameters (python starts counting on 0)\n",
        "\n",
        "#[w.vector for w in docs_train[d]] generates the list of word vectors for the d-th document\n",
        "x_input = torch.Tensor([[w.vector for w in docs_train[d]] for d in idx])"
      ]
    },
    {
      "cell_type": "code",
      "execution_count": 127,
      "id": "ef7b1db8",
      "metadata": {
        "id": "ef7b1db8",
        "colab": {
          "base_uri": "https://localhost:8080/"
        },
        "outputId": "13762d06-56db-44aa-ef23-160807bb3e42"
      },
      "outputs": [
        {
          "output_type": "execute_result",
          "data": {
            "text/plain": [
              "(15, 300)"
            ]
          },
          "metadata": {},
          "execution_count": 127
        }
      ],
      "source": [
        "d=1\n",
        "\n",
        "np.array([docs_train[d][w].vector for w in range(len_train[d])]).shape"
      ]
    },
    {
      "cell_type": "code",
      "execution_count": 128,
      "id": "e59b75af",
      "metadata": {
        "id": "e59b75af"
      },
      "outputs": [],
      "source": [
        "aux = torch.Tensor([np.mean([docs_train[d][w].vector for w in range(len_train[d])],0) for d in idx])"
      ]
    },
    {
      "cell_type": "markdown",
      "id": "455ffc43",
      "metadata": {
        "id": "455ffc43"
      },
      "source": [
        "The shape of `x_input` should be (3,max_l,300)"
      ]
    },
    {
      "cell_type": "code",
      "execution_count": 129,
      "id": "e1bba6c1",
      "metadata": {
        "id": "e1bba6c1",
        "colab": {
          "base_uri": "https://localhost:8080/"
        },
        "outputId": "7945a707-d931-4b36-fbd4-8f05b3b3f377"
      },
      "outputs": [
        {
          "output_type": "execute_result",
          "data": {
            "text/plain": [
              "torch.Size([3, 35, 300])"
            ]
          },
          "metadata": {},
          "execution_count": 129
        }
      ],
      "source": [
        "x_input.shape"
      ]
    },
    {
      "cell_type": "markdown",
      "id": "ac2b4f00",
      "metadata": {
        "id": "ac2b4f00"
      },
      "source": [
        "Let's instantiate the RNN class"
      ]
    },
    {
      "cell_type": "code",
      "execution_count": 130,
      "id": "82bcdf04",
      "metadata": {
        "id": "82bcdf04"
      },
      "outputs": [],
      "source": [
        "my_RNN = RNN(300,2,20,1)"
      ]
    },
    {
      "cell_type": "markdown",
      "id": "2050a813",
      "metadata": {
        "id": "2050a813"
      },
      "source": [
        "> **Exercise 2:** evaluate the RNN otuput for `x_input` and check that the ouput dimensions make sense"
      ]
    },
    {
      "cell_type": "code",
      "execution_count": 131,
      "id": "1dfa7411",
      "metadata": {
        "id": "1dfa7411"
      },
      "outputs": [],
      "source": [
        "x_batch = x_input  # x es tu tensor de entradas con las secuencias de texto\n",
        "lengths = [lengths[d] for d in idx]  # Las longitudes de las secuencias en el lote\n",
        "\n",
        "# Pasar las secuencias y las longitudes al modelo\n",
        "o = my_RNN.forward(x_batch, lengths)"
      ]
    },
    {
      "cell_type": "code",
      "execution_count": 132,
      "id": "15e9071e",
      "metadata": {
        "id": "15e9071e",
        "colab": {
          "base_uri": "https://localhost:8080/"
        },
        "outputId": "d6e70487-e16f-4b4c-d37e-1dc7324c0072"
      },
      "outputs": [
        {
          "output_type": "stream",
          "name": "stdout",
          "text": [
            "tensor([[-0.3331, -1.2611],\n",
            "        [-0.5753, -0.8268],\n",
            "        [-0.5378, -0.8771]], grad_fn=<LogSoftmaxBackward0>)\n"
          ]
        }
      ],
      "source": [
        "print(o)"
      ]
    },
    {
      "cell_type": "code",
      "execution_count": 133,
      "id": "99eb19c0",
      "metadata": {
        "id": "99eb19c0",
        "colab": {
          "base_uri": "https://localhost:8080/"
        },
        "outputId": "b9f2acfd-4fe2-40ae-ad26-465dc911ecc7"
      },
      "outputs": [
        {
          "output_type": "execute_result",
          "data": {
            "text/plain": [
              "torch.Size([3, 2])"
            ]
          },
          "metadata": {},
          "execution_count": 133
        }
      ],
      "source": [
        "o.shape"
      ]
    },
    {
      "cell_type": "markdown",
      "id": "8fab796e",
      "metadata": {
        "id": "8fab796e"
      },
      "source": [
        "> **Exercise 3:** Complete the following class, which inherits the previous one and it adds a training loop, an evaluation method, and functionalities to save the model every few epochs"
      ]
    },
    {
      "cell_type": "code",
      "source": [
        "import torch\n",
        "import torch.nn as nn\n",
        "import torch.optim as optim\n",
        "import numpy as np\n",
        "\n",
        "class RNN_with_train(RNN):\n",
        "\n",
        "    def __init__(self, input_size, output_size, hidden_dim, n_layers, prob=0.0, batch_size=50, lr=0.0005, saved_files='./saved_models/RNN_sentiment_analysis'):\n",
        "        super().__init__(input_size, output_size, hidden_dim, n_layers, prob)\n",
        "\n",
        "        self.lr = lr  # Learning Rate\n",
        "        self.optim = optim.Adam(self.parameters(), lr=self.lr)  # Optimizer\n",
        "        self.criterion = nn.NLLLoss()  # Negative Log-Likelihood Loss\n",
        "        self.loss_during_training = []  # Stores training loss\n",
        "        self.valid_loss_during_training = []  # Stores validation loss\n",
        "        self.batch_size = batch_size  # Batch size for training\n",
        "        self.saved_files = saved_files  # Directory to save the model\n",
        "\n",
        "    def predict_proba(self, docs, lengths, Y=None):\n",
        "        '''\n",
        "        We use this method to get the output of the network given a set of documents. If label is provided,\n",
        "        we get accuracy.\n",
        "\n",
        "        - docs: documents, each encoded as a list of spacy tokens. They are length-normalized.\n",
        "        - lengths: real length of each document.\n",
        "        - Y: labels\n",
        "        '''\n",
        "        accuracy = 0.0\n",
        "\n",
        "        with torch.no_grad():\n",
        "            # Prepare input for the model: word embeddings for each document\n",
        "            x_input = torch.Tensor([[w.vector for w in d] for d in docs])\n",
        "\n",
        "            # Get log probabilities for the input documents\n",
        "            logprobs = self.forward(x_input, lengths).detach().numpy()\n",
        "\n",
        "            # Calculate accuracy if labels are provided\n",
        "            if len(Y) > 0:\n",
        "                accuracy = np.sum(np.argmax(logprobs, 1) == Y) / np.shape(Y)[0]\n",
        "\n",
        "        return logprobs, accuracy\n",
        "\n",
        "    def fit(self, docs_train, docs_val, Y, Yval, len_train, len_val, epochs=100, print_every=5):\n",
        "        '''\n",
        "        Método de entrenamiento.\n",
        "\n",
        "        - docs_train, docs_val: training/validation documents  (each is a list of spacy tokens).\n",
        "          Normalized in length!\n",
        "        - len_train/len_val: real lengths\n",
        "        '''\n",
        "        self.print_every = print_every\n",
        "        self.epochs = epochs\n",
        "\n",
        "        # Optimization Loop\n",
        "        self.num_train = len(docs_train)  # Number of training points\n",
        "        self.num_batchs = np.floor(self.num_train / self.batch_size)  # Number of training batches\n",
        "        self.num_val = len(docs_val)  # Number of validation points\n",
        "        self.num_batchs_val = np.floor(self.num_val / self.batch_size)  # Number of validation batches\n",
        "\n",
        "        labels = torch.Tensor(Y).type(torch.LongTensor)  # Training labels\n",
        "        labelsval = torch.Tensor(Yval).type(torch.LongTensor)  # Validation labels\n",
        "\n",
        "        for e in range(int(self.epochs)):\n",
        "\n",
        "            self.train()  # Set model to training mode (activates dropout)\n",
        "\n",
        "            # Random data permutation for training\n",
        "            idx = np.random.permutation(self.num_train)\n",
        "\n",
        "            running_loss = 0.\n",
        "\n",
        "            for i in range(int(self.num_batchs)):\n",
        "\n",
        "                self.optim.zero_grad()\n",
        "\n",
        "                # Indices of the data entering the batch\n",
        "                idx_batch = idx[i * self.batch_size:(i + 1) * self.batch_size]\n",
        "\n",
        "                # Just in case there are empty documents, we ignore them\n",
        "                idx_batch = [d for d in idx_batch if len_train[d] > 0]\n",
        "\n",
        "                # Prepare the input: sequences of word embeddings\n",
        "                x_input = torch.Tensor([[w.vector for w in docs_train[d]] for d in idx_batch])\n",
        "\n",
        "                # Compute the classifier output for each batch\n",
        "                out = self.forward(x_input, [len_train[d] for d in idx_batch])\n",
        "\n",
        "                # Calculate the loss\n",
        "                loss = self.criterion(out, labels[idx_batch])\n",
        "\n",
        "                running_loss += loss.item()\n",
        "\n",
        "                # Backpropagation\n",
        "                loss.backward()\n",
        "\n",
        "                # Gradient clipping\n",
        "                nn.utils.clip_grad_norm_(self.parameters(), 2.0)\n",
        "\n",
        "                # Update the model parameters\n",
        "                self.optim.step()\n",
        "\n",
        "            # Store the average training loss\n",
        "            self.loss_during_training.append(running_loss / self.num_batchs)\n",
        "\n",
        "            # Save the model after each epoch\n",
        "            torch.save(self.state_dict(), self.saved_files + '_epoch_' + str(e) + '.pth')\n",
        "\n",
        "            # Validation\n",
        "            with torch.no_grad():\n",
        "                # Set model to evaluation mode (disables dropout)\n",
        "                self.eval()\n",
        "\n",
        "                running_loss = 0.\n",
        "                idx = np.random.permutation(self.num_val)\n",
        "\n",
        "                for i in range(int(self.num_batchs_val)):\n",
        "\n",
        "                    idx_batch = idx[i * self.batch_size:(i + 1) * self.batch_size]\n",
        "\n",
        "                    # Just in case there are empty documents, we ignore them\n",
        "                    idx_batch = [d for d in idx_batch if len_val[d] > 0]\n",
        "\n",
        "                    # Prepare the input for the validation batch\n",
        "                    x_input = torch.Tensor([[w.vector for w in docs_val[d]] for d in idx_batch])\n",
        "\n",
        "                    # Compute the classifier output for each validation batch\n",
        "                    out = self.forward(x_input, [len_val[d] for d in idx_batch])\n",
        "\n",
        "                    # Calculate the loss\n",
        "                    loss = self.criterion(out, labelsval[idx_batch])\n",
        "\n",
        "                    running_loss += loss.item()\n",
        "\n",
        "                # Store the average validation loss\n",
        "                self.valid_loss_during_training.append(running_loss / self.num_batchs_val)\n",
        "\n",
        "            # Print the training and validation loss every few epochs\n",
        "            if e % self.print_every == 0:\n",
        "                print(f\"Training loss after {e} epochs: {self.loss_during_training[-1]}. Validation loss: {self.valid_loss_during_training[-1]}\")\n"
      ],
      "metadata": {
        "id": "eYy202hMpHcY"
      },
      "id": "eYy202hMpHcY",
      "execution_count": 134,
      "outputs": []
    },
    {
      "cell_type": "markdown",
      "id": "f8ee5f2f",
      "metadata": {
        "id": "f8ee5f2f"
      },
      "source": [
        "> **Exercise 4:** Instantiate and train the class using a hidden state of 20 dimensions and dropout probability equal to 0.3. Train for 40 epochs (can take a while)"
      ]
    },
    {
      "cell_type": "code",
      "execution_count": 135,
      "id": "4609e609",
      "metadata": {
        "id": "4609e609",
        "colab": {
          "base_uri": "https://localhost:8080/"
        },
        "outputId": "6030f6b0-661b-488a-8195-346343eea5d0"
      },
      "outputs": [
        {
          "output_type": "stream",
          "name": "stdout",
          "text": [
            "Training loss after 0 epochs: 0.49763909635478504. Validation loss: 0.37480014231469894\n",
            "Training loss after 1 epochs: 0.3696638162005438. Validation loss: 0.31339436769485474\n",
            "Training loss after 2 epochs: 0.33946136722009473. Validation loss: 0.2972502269678646\n",
            "Training loss after 3 epochs: 0.32141829026888497. Validation loss: 0.28519941452476716\n",
            "Training loss after 4 epochs: 0.30676931489820347. Validation loss: 0.2762544047501352\n",
            "Training loss after 5 epochs: 0.2936348749758446. Validation loss: 0.2608674011296696\n",
            "Training loss after 6 epochs: 0.2717538337184958. Validation loss: 0.2585734236571524\n",
            "Training loss after 7 epochs: 0.24989566013012846. Validation loss: 0.24454817589786318\n",
            "Training loss after 8 epochs: 0.22613151039775103. Validation loss: 0.2373266335990694\n",
            "Training loss after 9 epochs: 0.2027144259581827. Validation loss: 0.2355786988304721\n",
            "Training loss after 10 epochs: 0.18950923001521255. Validation loss: 0.22280719131231308\n",
            "Training loss after 11 epochs: 0.1713488069809463. Validation loss: 0.2436439192129506\n",
            "Training loss after 12 epochs: 0.15891176625473857. Validation loss: 0.21450222407778105\n",
            "Training loss after 13 epochs: 0.14019411883942068. Validation loss: 0.20572796215613684\n",
            "Training loss after 14 epochs: 0.12836963678263638. Validation loss: 0.21318139301406014\n",
            "Training loss after 15 epochs: 0.11522336130681103. Validation loss: 0.21290967654850748\n",
            "Training loss after 16 epochs: 0.11246597208082676. Validation loss: 0.21030705173810324\n",
            "Training loss after 17 epochs: 0.09903803225351523. Validation loss: 0.20381695135600036\n",
            "Training loss after 18 epochs: 0.09616396331215558. Validation loss: 0.20209389386905563\n",
            "Training loss after 19 epochs: 0.08207567926649362. Validation loss: 0.22500759880575869\n",
            "Training loss after 20 epochs: 0.07403831146912623. Validation loss: 0.21032274059123462\n",
            "Training loss after 21 epochs: 0.06512775741619607. Validation loss: 0.21422417565352386\n",
            "Training loss after 22 epochs: 0.0612422943064203. Validation loss: 0.21504755628605685\n",
            "Training loss after 23 epochs: 0.054089477196437856. Validation loss: 0.23237313702702522\n",
            "Training loss after 24 epochs: 0.05057011147935505. Validation loss: 0.2303437360872825\n",
            "Training loss after 25 epochs: 0.04544573772239358. Validation loss: 0.2270467523485422\n",
            "Training loss after 26 epochs: 0.04062983741958256. Validation loss: 0.23327603356705773\n",
            "Training loss after 27 epochs: 0.037566483141981986. Validation loss: 0.23438954384376606\n",
            "Training loss after 28 epochs: 0.03729479226175288. Validation loss: 0.23193171796285444\n",
            "Training loss after 29 epochs: 0.032669091029475406. Validation loss: 0.2508596825516886\n",
            "Training loss after 30 epochs: 0.03002764868282088. Validation loss: 0.23702820473247105\n",
            "Training loss after 31 epochs: 0.029094802515504704. Validation loss: 0.2915679232424332\n",
            "Training loss after 32 epochs: 0.025647306205602745. Validation loss: 0.24374677458157143\n",
            "Training loss after 33 epochs: 0.028151708323355406. Validation loss: 0.25343206830115783\n",
            "Training loss after 34 epochs: 0.020796388201096593. Validation loss: 0.2642892388006051\n",
            "Training loss after 35 epochs: 0.021320965574824647. Validation loss: 0.2668703638224138\n",
            "Training loss after 36 epochs: 0.020211385467332112. Validation loss: 0.2942569839457671\n",
            "Training loss after 37 epochs: 0.017041405672462633. Validation loss: 0.2911571859278613\n",
            "Training loss after 38 epochs: 0.01711969558079408. Validation loss: 0.2669094768870208\n",
            "Training loss after 39 epochs: 0.014772162936972326. Validation loss: 0.30365941730431384\n"
          ]
        }
      ],
      "source": [
        "# Define the necessary variables\n",
        "input_size = 300\n",
        "output_size = 2\n",
        "hidden_dim = 20\n",
        "n_layers = 1\n",
        "prob = 0.3\n",
        "batch_size = 50\n",
        "lr = 0.0005\n",
        "saved_files = './RNN_sentiment_analysis'\n",
        "\n",
        "# Instantiate and train the class\n",
        "my_RNN = RNN_with_train(input_size=input_size, output_size=output_size, hidden_dim=hidden_dim,\n",
        "                        n_layers=n_layers, prob=prob, batch_size=batch_size, lr=lr, saved_files=saved_files)\n",
        "\n",
        "# Call the train method to train the model\n",
        "my_RNN.fit(docs_train,docs_val,torch.Tensor(y_train),torch.Tensor(y_val),len_train,len_val,epochs=40,print_every=1)"
      ]
    },
    {
      "cell_type": "markdown",
      "id": "dd1eed96",
      "metadata": {
        "id": "dd1eed96"
      },
      "source": [
        "> **Exercise 5:** Plot both validation and training loss. Recover the model parameters for the epoch that minimized the validation loss. To do so, note that at every epoch the model parameters are save in a certain file named  `RNN_sentiment_analysis_epoch_X.pth` (unless you changed the default value), where `X` is the epoch. The function to re-state the parameters of the network are  `state_dict = my_RNN.load_state_dict(torch.load('RNN_sentiment_analysis_epoch_X.pth'))\n",
        "`"
      ]
    },
    {
      "cell_type": "code",
      "source": [
        "# Plot training and validation loss\n",
        "plt.plot(my_RNN.loss_during_training, label='Training Loss')\n",
        "plt.plot(my_RNN.valid_loss_during_training, label='Validation Loss')\n",
        "plt.xlabel('Epoch')\n",
        "plt.ylabel('Loss')\n",
        "plt.title('Training and Validation Loss')\n",
        "plt.legend()\n",
        "plt.show()\n",
        "\n",
        "# Find the epoch with the minimum validation loss\n",
        "min_val_loss_epoch = np.argmin(my_RNN.valid_loss_during_training)\n",
        "\n",
        "# Load the model parameters from the epoch with minimum validation loss\n",
        "state_dict = my_RNN.load_state_dict(torch.load(f'./RNN_sentiment_analysis_epoch_{min_val_loss_epoch}.pth'))\n",
        "\n",
        "print(f\"Minimum validation loss achieved at epoch {min_val_loss_epoch}\")\n"
      ],
      "metadata": {
        "id": "BBvUe2kcsy_M",
        "colab": {
          "base_uri": "https://localhost:8080/",
          "height": 489
        },
        "outputId": "f24b1d72-7b24-43a2-c00c-12467d9ddde1"
      },
      "id": "BBvUe2kcsy_M",
      "execution_count": 152,
      "outputs": [
        {
          "output_type": "display_data",
          "data": {
            "text/plain": [
              "<Figure size 640x480 with 1 Axes>"
            ],
            "image/png": "[encoded data removed]"
          },
          "metadata": {
            "image/png": {
              "width": 567,
              "height": 454
            }
          }
        },
        {
          "output_type": "stream",
          "name": "stdout",
          "text": [
            "Minimum validation loss achieved at epoch 18\n"
          ]
        }
      ]
    },
    {
      "cell_type": "markdown",
      "source": [
        "there is a little bit of overfitting"
      ],
      "metadata": {
        "id": "S5K4RSqAmg-n"
      },
      "id": "S5K4RSqAmg-n"
    },
    {
      "cell_type": "code",
      "execution_count": 145,
      "id": "19a62f91",
      "metadata": {
        "id": "19a62f91",
        "colab": {
          "base_uri": "https://localhost:8080/"
        },
        "outputId": "84abbb4f-9dfe-4de1-ece1-943b310953d0"
      },
      "outputs": [
        {
          "output_type": "execute_result",
          "data": {
            "text/plain": [
              "<All keys matched successfully>"
            ]
          },
          "metadata": {},
          "execution_count": 145
        }
      ],
      "source": [
        "# Recovering the best validation parameters\n",
        "\n",
        "# Recuperar los índices de las épocas ordenadas por la menor pérdida de validación\n",
        "idx_min = np.argsort(my_RNN.valid_loss_during_training)\n",
        "\n",
        "# Cargar el modelo con los mejores parámetros (el de la mínima pérdida de validación)\n",
        "my_RNN.load_state_dict(torch.load(my_RNN.saved_files + '_epoch_' + str(idx_min[0]) + '.pth'))"
      ]
    },
    {
      "cell_type": "markdown",
      "source": [
        "we also save it in a specific folder:\n"
      ],
      "metadata": {
        "id": "dY9hzQ-5nAvf"
      },
      "id": "dY9hzQ-5nAvf"
    },
    {
      "cell_type": "code",
      "source": [
        "# Recovering the best validation parameters\n",
        "idx_min = np.argsort(my_RNN.valid_loss_during_training)\n",
        "best_epoch = idx_min[0]\n",
        "\n",
        "# Load the model parameters corresponding to the epoch with the lowest validation loss\n",
        "state_dict = my_RNN.load_state_dict(torch.load(f'/content/RNN_sentiment_analysis_epoch_{best_epoch}.pth'))"
      ],
      "metadata": {
        "id": "1zLj0-m4m-4J"
      },
      "id": "1zLj0-m4m-4J",
      "execution_count": 146,
      "outputs": []
    },
    {
      "cell_type": "markdown",
      "id": "6f10d557",
      "metadata": {
        "id": "6f10d557"
      },
      "source": [
        "> **Exercise 6:** Using the method `predict_proba`, compute the accuracy and class probabilities for the data in the test set. Note that the method returns log-probabilities that you have to exponentiate."
      ]
    },
    {
      "cell_type": "code",
      "execution_count": 147,
      "id": "b1dae5ff",
      "metadata": {
        "id": "b1dae5ff"
      },
      "outputs": [],
      "source": [
        "# Ensure that len_test only contains positive values\n",
        "valid_idx = [i for i, length in enumerate(len_test) if length > 0]\n",
        "\n",
        "# Use list comprehension to filter the valid sequences, lengths, and labels\n",
        "docs_test = [docs_test[i] for i in valid_idx]\n",
        "len_test = [len_test[i] for i in valid_idx]\n",
        "y_test = [y_test[i] for i in valid_idx]\n"
      ]
    },
    {
      "cell_type": "code",
      "source": [
        "logprobs, acc = my_RNN.predict_proba(docs_test, len_test, Y=y_test)\n",
        "\n",
        "# Convert log-probabilities to probabilities\n",
        "probs = np.exp(logprobs)\n",
        "\n",
        "# Print the accuracy of the model on the test set\n",
        "print(f\"The test accuracy is {acc}\")"
      ],
      "metadata": {
        "id": "YaGlcLuBGzkS",
        "colab": {
          "base_uri": "https://localhost:8080/"
        },
        "outputId": "6cac134e-e4d0-4174-db92-835f0fd861a6"
      },
      "id": "YaGlcLuBGzkS",
      "execution_count": 148,
      "outputs": [
        {
          "output_type": "stream",
          "name": "stdout",
          "text": [
            "The test accuracy is 0.9343832020997376\n"
          ]
        }
      ]
    },
    {
      "cell_type": "markdown",
      "source": [
        "*class Probabilities:*"
      ],
      "metadata": {
        "id": "Kf5cqS9fnDq8"
      },
      "id": "Kf5cqS9fnDq8"
    },
    {
      "cell_type": "code",
      "source": [
        "# Convert y_test to a numpy array first to properly compute baseline acc\n",
        "y_test_array = np.array(y_test)\n",
        "\n",
        "# Also check the class distribution\n",
        "print(f\"Number of class 0 (Neutral/Positive): {np.sum(y_test_array == 0)}\")\n",
        "print(f\"Number of class 1 (Negative): {np.sum(y_test_array == 1)}\")"
      ],
      "metadata": {
        "colab": {
          "base_uri": "https://localhost:8080/"
        },
        "id": "MZZItWtJrI7f",
        "outputId": "253afbe9-7637-413c-a5d7-cd4a17774c1d"
      },
      "id": "MZZItWtJrI7f",
      "execution_count": 149,
      "outputs": [
        {
          "output_type": "stream",
          "name": "stdout",
          "text": [
            "Number of class 0 (Neutral/Positive): 1003\n",
            "Number of class 1 (Negative): 140\n"
          ]
        }
      ]
    },
    {
      "cell_type": "code",
      "source": [
        "# Find the epoch with the minimum validation loss\n",
        "best_epoch = np.argmin(my_RNN.valid_loss_during_training)\n",
        "min_val_loss = np.min(my_RNN.valid_loss_during_training)\n",
        "\n",
        "print(f\"Best model found at epoch {best_epoch} with validation loss: {min_val_loss:.4f}\")\n",
        "\n",
        "# Load the best model\n",
        "best_model_path = f'./RNN_sentiment_analysis_epoch_{best_epoch}.pth'\n",
        "state_dict = my_RNN.load_state_dict(torch.load(best_model_path))\n",
        "\n",
        "# Test the loaded model on the test set\n",
        "logprobs, test_accuracy = my_RNN.predict_proba(docs_test, len_test, Y=y_test)\n",
        "print(f\"Test accuracy with best model: {test_accuracy:.4f}\")\n",
        "\n",
        "# baseline correctly\n",
        "baseline_accuracy = max(np.sum(y_test_array == 0), np.sum(y_test_array == 1)) / len(y_test_array)\n",
        "print(f\"Baseline accuracy (majority class): {baseline_accuracy:.4f}\")\n",
        "\n",
        "# Let's also visualize some predictions\n",
        "num_examples = 5\n",
        "random_indices = np.random.choice(len(docs_test), num_examples, replace=False)\n",
        "\n",
        "print(\"\\nExample predictions:\")\n",
        "print(\"-\" * 60)\n",
        "for idx in random_indices:\n",
        "    # Get the original text\n",
        "    original_tokens = [token.text for token in norm_docs[idx_test[idx]][:len_test[idx]]]\n",
        "    original_text = \" \".join(original_tokens)\n",
        "\n",
        "    # Get the predicted label and true label\n",
        "    pred_label = np.argmax(logprobs[idx])\n",
        "    true_label = y_test[idx]\n",
        "\n",
        "    # Get prediction confidence\n",
        "    confidence = np.exp(logprobs[idx][pred_label])\n",
        "\n",
        "    print(f\"Text: {original_text}\")\n",
        "    print(f\"True label: {'Negative' if true_label == 1 else 'Neutral/Positive'}\")\n",
        "    print(f\"Predicted label: {'Negative' if pred_label == 1 else 'Neutral/Positive'} (confidence: {confidence:.2f})\")\n",
        "    print(\"-\" * 60)\n"
      ],
      "metadata": {
        "colab": {
          "base_uri": "https://localhost:8080/"
        },
        "id": "rsxs6ovbnLPh",
        "outputId": "1b27d8db-98c6-4022-b369-cb72b3c3212e"
      },
      "id": "rsxs6ovbnLPh",
      "execution_count": 150,
      "outputs": [
        {
          "output_type": "stream",
          "name": "stdout",
          "text": [
            "Best model found at epoch 18 with validation loss: 0.2021\n",
            "Test accuracy with best model: 0.9344\n",
            "Baseline accuracy (majority class): 0.8775\n",
            "\n",
            "Example predictions:\n",
            "------------------------------------------------------------\n",
            "Text: mall financed parity basis Pearl Plaza LLC joint venture company established Chinese investor Shanghai Industrial Investment Holdings Co Ltd SRV Group\n",
            "True label: Neutral/Positive\n",
            "Predicted label: Neutral/Positive (confidence: 1.00)\n",
            "------------------------------------------------------------\n",
            "Text: Simmons Elected Chairman PORTSMOUTH A. Simmons CEO Service Credit Union elected chairman Defense Credit Union Council 2007 2008 term\n",
            "True label: Neutral/Positive\n",
            "Predicted label: Neutral/Positive (confidence: 1.00)\n",
            "------------------------------------------------------------\n",
            "Text: example net sales increased 5.9 quarter EBITDA increased negative EUR 0.2 mn quarter 2009\n",
            "True label: Neutral/Positive\n",
            "Predicted label: Neutral/Positive (confidence: 0.98)\n",
            "------------------------------------------------------------\n",
            "Text: Finnish steel maker HEL said today net loss contracted EUR 49 million USD 68.2 m months 2010 EUR 229 million period year ago\n",
            "True label: Neutral/Positive\n",
            "Predicted label: Neutral/Positive (confidence: 0.99)\n",
            "------------------------------------------------------------\n",
            "Text: 000 Q1 2010 6 2010 Finnish textile clothing design company HEL said today net\n",
            "True label: Neutral/Positive\n",
            "Predicted label: Neutral/Positive (confidence: 0.99)\n",
            "------------------------------------------------------------\n"
          ]
        }
      ]
    },
    {
      "cell_type": "markdown",
      "id": "2f64223e",
      "metadata": {
        "id": "2f64223e"
      },
      "source": [
        "The following code plots the ROC curve of the classifiers, and it computes the area under the curve:"
      ]
    },
    {
      "cell_type": "code",
      "execution_count": 151,
      "id": "0a495c85",
      "metadata": {
        "id": "0a495c85",
        "colab": {
          "base_uri": "https://localhost:8080/",
          "height": 489
        },
        "outputId": "17532f13-74b8-4409-bf84-bed23ae3449b"
      },
      "outputs": [
        {
          "output_type": "display_data",
          "data": {
            "text/plain": [
              "<Figure size 640x480 with 1 Axes>"
            ],
            "image/png": "[encoded data removed]"
          },
          "metadata": {
            "image/png": {
              "width": 567,
              "height": 454
            }
          }
        },
        {
          "output_type": "stream",
          "name": "stdout",
          "text": [
            "AUC ROC for LSTM is 0.9165717134311352\n"
          ]
        }
      ],
      "source": [
        "from sklearn import metrics\n",
        "\n",
        "fpr, recall, thresholds = metrics.roc_curve(y_test, probs[:,1], pos_label=1)\n",
        "\n",
        "fig,ax = plt.subplots()\n",
        "plt.plot(fpr,recall,lw=2.5,label='ROC curve LSTM')\n",
        "plt.legend(loc=7)\n",
        "plt.grid(axis='both', which='major', color='gray', alpha=0.6, linestyle='dotted', lw=1.5)\n",
        "plt.xlabel('False Positive Rate')\n",
        "plt.ylabel('Recall (R)')\n",
        "plt.title('Curva ROC')\n",
        "plt.show()\n",
        "\n",
        "area_roc_LSTM = metrics.roc_auc_score(y_test, probs[:,1])\n",
        "\n",
        "print(f\"AUC ROC for LSTM is {area_roc_LSTM}\")"
      ]
    },
    {
      "cell_type": "markdown",
      "id": "c801f1e7",
      "metadata": {
        "id": "c801f1e7"
      },
      "source": [
        "If you do not implement the optimal part, just know that the proposed MLP solution AUC is typically less than 0.9"
      ]
    }
  ],
  "metadata": {
    "kernelspec": {
      "display_name": "Python 3 (ipykernel)",
      "language": "python",
      "name": "python3"
    },
    "language_info": {
      "codemirror_mode": {
        "name": "ipython",
        "version": 3
      },
      "file_extension": ".py",
      "mimetype": "text/x-python",
      "name": "python",
      "nbconvert_exporter": "python",
      "pygments_lexer": "ipython3",
      "version": "3.9.7"
    },
    "colab": {
      "provenance": []
    }
  },
  "nbformat": 4,
  "nbformat_minor": 5
}